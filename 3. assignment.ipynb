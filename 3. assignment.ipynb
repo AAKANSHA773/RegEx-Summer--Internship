{
 "cells": [
  {
   "cell_type": "markdown",
   "metadata": {},
   "source": [
    "# Q1. Write a function to return nth term of Fibonacci sequence."
   ]
  },
  {
   "cell_type": "code",
   "execution_count": 1,
   "metadata": {},
   "outputs": [
    {
     "name": "stdout",
     "output_type": "stream",
     "text": [
      "enter the number:7\n"
     ]
    },
    {
     "data": {
      "text/plain": [
       "13"
      ]
     },
     "execution_count": 1,
     "metadata": {},
     "output_type": "execute_result"
    }
   ],
   "source": [
    "def fibonacci(n):\n",
    "    sum1,sum2=0,1\n",
    "    sum3=0\n",
    "    if n==0:\n",
    "        return 0\n",
    "    elif n == 1:\n",
    "        return 1\n",
    "    else:\n",
    "        for i in range(n-1):\n",
    "            sum3=sum1+sum2\n",
    "            sum1=sum2\n",
    "            sum2=sum3\n",
    "        return(sum3)\n",
    "n=int(input(\"enter the number:\"))\n",
    "fibonacci(n)\n",
    "    "
   ]
  },
  {
   "cell_type": "markdown",
   "metadata": {},
   "source": [
    "# Q2. Write a function to find out GCD of two numbers using EUCLID'S algorithm."
   ]
  },
  {
   "cell_type": "code",
   "execution_count": 2,
   "metadata": {},
   "outputs": [
    {
     "name": "stdout",
     "output_type": "stream",
     "text": [
      "Enter 1st Number : 25\n",
      "Enter 2nd Number : 60\n",
      "GCD is 5\n"
     ]
    }
   ],
   "source": [
    "def gcd(n1, n2) :\n",
    "    if n2 == 0 :\n",
    "        return n1\n",
    "    else :\n",
    "        return gcd(n2, n1 % n2)\n",
    "        \n",
    "n1 = int(input(\"Enter 1st Number : \"))\n",
    "n2 = int(input(\"Enter 2nd Number : \"))\n",
    "print(\"GCD is\",gcd(n1,n2))"
   ]
  },
  {
   "cell_type": "markdown",
   "metadata": {},
   "source": [
    "# Q3. Write a function to find LCM of two number in most optimizers way.\""
   ]
  },
  {
   "cell_type": "code",
   "execution_count": 4,
   "metadata": {},
   "outputs": [
    {
     "name": "stdout",
     "output_type": "stream",
     "text": [
      "enter the first number :12\n",
      "enter the second number :5\n",
      "LCM is : 60.0\n"
     ]
    }
   ],
   "source": [
    "def gcd(n1, n2) :\n",
    "    if n2 == 0 :\n",
    "        return n1\n",
    "    else :\n",
    "        return gcd(n2, n1 % n2)\n",
    "def LCM(n1,n2):\n",
    "    return(n1/gcd(n1,n2)) *n2\n",
    "n1=int(input(\"enter the first number :\"))\n",
    "n2=int(input(\"enter the second number :\"))\n",
    "print(\"LCM is :\",LCM(n1,n2))"
   ]
  },
  {
   "cell_type": "code",
   "execution_count": null,
   "metadata": {},
   "outputs": [],
   "source": []
  }
 ],
 "metadata": {
  "kernelspec": {
   "display_name": "Python 3",
   "language": "python",
   "name": "python3"
  },
  "language_info": {
   "codemirror_mode": {
    "name": "ipython",
    "version": 3
   },
   "file_extension": ".py",
   "mimetype": "text/x-python",
   "name": "python",
   "nbconvert_exporter": "python",
   "pygments_lexer": "ipython3",
   "version": "3.7.4"
  }
 },
 "nbformat": 4,
 "nbformat_minor": 2
}
