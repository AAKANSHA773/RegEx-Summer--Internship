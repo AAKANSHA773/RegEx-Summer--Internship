{
 "cells": [
  {
   "cell_type": "markdown",
   "metadata": {},
   "source": [
    "# Q1. Given a list of integers, write a function to return the sum of all prime numbers in that\n"
   ]
  },
  {
   "cell_type": "code",
   "execution_count": 17,
   "metadata": {},
   "outputs": [
    {
     "name": "stdout",
     "output_type": "stream",
     "text": [
      "how many number you enter :5\n",
      "enter the number :1\n",
      "enter the number :2\n",
      "enter the number :3\n",
      "enter the number :4\n",
      "enter the number :6\n",
      "[1, 2, 3, 4, 6]\n",
      "6\n"
     ]
    }
   ],
   "source": [
    "lst =[]\n",
    "x=int(input(\"how many number you enter :\"))\n",
    "def prime_num():\n",
    "    sum1 = 0\n",
    "    for i in range(0,x):\n",
    "        num=int(input(\"enter the number :\"))\n",
    "        if num ==2 or num ==1:\n",
    "            sum1=sum1+num    \n",
    "        for i in range(2,num):\n",
    "            if num%i==0:\n",
    "                break\n",
    "            else:\n",
    "                if i+1==num:\n",
    "                    sum1=sum1+num\n",
    "        lst.append(num)   \n",
    "    print(lst)\n",
    "    print(sum1)\n",
    "        \n",
    "prime_num()        \n",
    "            "
   ]
  },
  {
   "cell_type": "markdown",
   "metadata": {},
   "source": [
    "# Q2. Given a list of integers, write a function to check whether the list is strictly increasing or not."
   ]
  },
  {
   "cell_type": "code",
   "execution_count": 19,
   "metadata": {},
   "outputs": [
    {
     "name": "stdout",
     "output_type": "stream",
     "text": [
      "how many number you enter :3\n",
      "enter the number4\n",
      "enter the number6\n",
      "enter the number5\n"
     ]
    },
    {
     "data": {
      "text/plain": [
       "False"
      ]
     },
     "execution_count": 19,
     "metadata": {},
     "output_type": "execute_result"
    }
   ],
   "source": [
    "lst =[]\n",
    "x=int(input(\"how many number you enter :\"))\n",
    "def increas(lst):\n",
    "    for i in range(0,x):\n",
    "        num=int(input(\"enter the number\"))\n",
    "        lst.append(num)\n",
    "    for i in range(1,len(lst)):\n",
    "        if lst[i] < lst[i-1]:\n",
    "            return False\n",
    "    return True\n",
    "increas(lst)\n",
    "        "
   ]
  },
  {
   "cell_type": "markdown",
   "metadata": {},
   "source": [
    "# Q3. Write a function to check whether a given list is expanding or not (the difference between adjacent elements should keep on increasing)."
   ]
  },
  {
   "cell_type": "code",
   "execution_count": null,
   "metadata": {},
   "outputs": [],
   "source": []
  },
  {
   "cell_type": "code",
   "execution_count": 20,
   "metadata": {},
   "outputs": [
    {
     "data": {
      "text/plain": [
       "False"
      ]
     },
     "execution_count": 20,
     "metadata": {},
     "output_type": "execute_result"
    }
   ],
   "source": [
    "import numpy as np\n",
    "def expanding(l):\n",
    "    if isinstance(l, list):\n",
    "        l = np.array(l)\n",
    "\n",
    "    return (np.diff(abs(l[1:] - l[:-1])) > 0).all()\n",
    "expanding([1,3,1,15])"
   ]
  },
  {
   "cell_type": "markdown",
   "metadata": {},
   "source": [
    "# Q4. Write a function to calculate all permutations of a given string. (Without using itertools)\n"
   ]
  },
  {
   "cell_type": "code",
   "execution_count": 15,
   "metadata": {},
   "outputs": [
    {
     "name": "stdout",
     "output_type": "stream",
     "text": [
      "Enter the char.: abc\n",
      "abc\n",
      "acb\n",
      "bac\n",
      "bca\n",
      "cba\n",
      "cab\n"
     ]
    }
   ],
   "source": [
    "def permutation(string, step=0):\n",
    "    if step ==len(string):\n",
    "        print(\"\".join(string))\n",
    "\n",
    "    for i in range(step,len(string)):\n",
    "\n",
    "        str_copy = [character for character in string]\n",
    "\n",
    "        str_copy[step], str_copy[i] = str_copy[i], str_copy[step]\n",
    "\n",
    "        permutation(str_copy, step+1)\n",
    "permutation(str(input(\"Enter the char.: \")))"
   ]
  },
  {
   "cell_type": "code",
   "execution_count": null,
   "metadata": {},
   "outputs": [],
   "source": []
  }
 ],
 "metadata": {
  "kernelspec": {
   "display_name": "Python 3",
   "language": "python",
   "name": "python3"
  },
  "language_info": {
   "codemirror_mode": {
    "name": "ipython",
    "version": 3
   },
   "file_extension": ".py",
   "mimetype": "text/x-python",
   "name": "python",
   "nbconvert_exporter": "python",
   "pygments_lexer": "ipython3",
   "version": "3.7.4"
  }
 },
 "nbformat": 4,
 "nbformat_minor": 2
}
